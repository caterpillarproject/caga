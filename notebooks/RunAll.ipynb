{
 "cells": [
  {
   "cell_type": "markdown",
   "metadata": {},
   "source": [
    "# Run All\n",
    "\n",
    "The data comes with an example LX11 tree.\n",
    "\n",
    "This notebook shows how to run GAMMA on all of those trees, then plot the mass-metallicity relation"
   ]
  },
  {
   "cell_type": "code",
   "execution_count": 1,
   "metadata": {},
   "outputs": [],
   "source": [
    "%matplotlib inline\n",
    "import numpy as np\n",
    "import matplotlib.pyplot as plt\n",
    "\n",
    "import glob, time\n",
    "\n",
    "import caga\n",
    "\n",
    "from JINAPyCEE import gamma"
   ]
  },
  {
   "cell_type": "code",
   "execution_count": 2,
   "metadata": {},
   "outputs": [],
   "source": [
    "hostID = 686\n",
    "hostfname = \"H1725272_LX11/rsid{}.npy\".format(hostID)\n",
    "subfnames = glob.glob(\"H1725272_LX11/*\")\n",
    "subfnames.remove(hostfname)"
   ]
  },
  {
   "cell_type": "code",
   "execution_count": 3,
   "metadata": {},
   "outputs": [
    {
     "data": {
      "text/plain": [
       "21"
      ]
     },
     "execution_count": 3,
     "metadata": {},
     "output_type": "execute_result"
    }
   ],
   "source": [
    "len(subfnames)"
   ]
  },
  {
   "cell_type": "markdown",
   "metadata": {},
   "source": [
    "## Run GAMMA\n",
    "Load all the trees and run GAMMA on everything"
   ]
  },
  {
   "cell_type": "code",
   "execution_count": 4,
   "metadata": {},
   "outputs": [],
   "source": [
    "host_tree = caga.gamma_tree.load(hostfname)\n",
    "sub_trees = [caga.gamma_tree.load(subfname) for subfname in subfnames]"
   ]
  },
  {
   "cell_type": "code",
   "execution_count": 5,
   "metadata": {},
   "outputs": [
    {
     "name": "stdout",
     "output_type": "stream",
     "text": [
      "OMEGA run in progress..\n",
      "SYGMA run in progress..\n",
      "   SYGMA run completed - Run time: 0.12s\n",
      "SYGMA run in progress..\n",
      "   SYGMA run completed - Run time: 0.05s\n",
      "SYGMA run in progress..\n",
      "   SYGMA run completed - Run time: 0.05s\n",
      "SYGMA run in progress..\n",
      "   SYGMA run completed - Run time: 0.05s\n",
      "SYGMA run in progress..\n",
      "   SYGMA run completed - Run time: 0.06s\n",
      "SYGMA run in progress..\n",
      "   SYGMA run completed - Run time: 0.05s\n",
      "Warning -- Not enough gas to sustain the SFH. 2\n",
      "   OMEGA run completed - Run time: 3.85s\n"
     ]
    }
   ],
   "source": [
    "SSPs_in = caga.precompute_ssps()\n",
    "gamma_kwargs = {\"sfe\":0.005,\"print_off\":True}\n",
    "mvir_thresh = 3e7"
   ]
  },
  {
   "cell_type": "code",
   "execution_count": 6,
   "metadata": {},
   "outputs": [],
   "source": [
    "def run_gamma(gt, mvir_thresh, gamma_kwargs, SSPs_in):\n",
    "    kwargs = caga.generate_kwargs(gt, mvir_thresh, SSPs_in=SSPs_in)\n",
    "    kwargs.update(gamma_kwargs)\n",
    "    g = gamma.gamma(**kwargs)\n",
    "    return g"
   ]
  },
  {
   "cell_type": "code",
   "execution_count": 7,
   "metadata": {},
   "outputs": [
    {
     "name": "stdout",
     "output_type": "stream",
     "text": [
      "GAMMA run in progress..\n",
      "   GAMMA run completed - Run time: 38.05s\n"
     ]
    }
   ],
   "source": [
    "ghost = run_gamma(host_tree, mvir_thresh, gamma_kwargs, SSPs_in)"
   ]
  },
  {
   "cell_type": "code",
   "execution_count": 8,
   "metadata": {},
   "outputs": [
    {
     "name": "stdout",
     "output_type": "stream",
     "text": [
      "GAMMA run in progress..\n",
      "   GAMMA run completed - Run time: 0.57s\n",
      "GAMMA run in progress..\n",
      "   GAMMA run completed - Run time: 2.24s\n",
      "GAMMA run in progress..\n",
      "   GAMMA run completed - Run time: 0.84s\n",
      "GAMMA run in progress..\n",
      "   GAMMA run completed - Run time: 0.56s\n",
      "GAMMA run in progress..\n",
      "   GAMMA run completed - Run time: 0.83s\n",
      "GAMMA run in progress..\n",
      "   GAMMA run completed - Run time: 0.56s\n",
      "GAMMA run in progress..\n",
      "   GAMMA run completed - Run time: 2.41s\n",
      "GAMMA run in progress..\n",
      "   GAMMA run completed - Run time: 1.25s\n",
      "GAMMA run in progress..\n",
      "   GAMMA run completed - Run time: 1.11s\n",
      "GAMMA run in progress..\n",
      "   GAMMA run completed - Run time: 0.71s\n",
      "GAMMA run in progress..\n",
      "   GAMMA run completed - Run time: 0.85s\n",
      "GAMMA run in progress..\n",
      "   GAMMA run completed - Run time: 0.58s\n",
      "GAMMA run in progress..\n",
      "   GAMMA run completed - Run time: 0.84s\n",
      "GAMMA run in progress..\n",
      "   GAMMA run completed - Run time: 1.89s\n",
      "GAMMA run in progress..\n",
      "   GAMMA run completed - Run time: 0.68s\n",
      "GAMMA run in progress..\n",
      "   GAMMA run completed - Run time: 0.81s\n",
      "GAMMA run in progress..\n",
      "   GAMMA run completed - Run time: 0.54s\n",
      "GAMMA run in progress..\n",
      "   GAMMA run completed - Run time: 0.96s\n",
      "GAMMA run in progress..\n",
      "   GAMMA run completed - Run time: 0.7s\n",
      "GAMMA run in progress..\n",
      "   GAMMA run completed - Run time: 0.56s\n",
      "GAMMA run in progress..\n",
      "   GAMMA run completed - Run time: 1.35s\n",
      "Total time is 20.8\n"
     ]
    }
   ],
   "source": [
    "start = time.time()\n",
    "gsubs = [run_gamma(sub_tree, mvir_thresh, gamma_kwargs, SSPs_in) for sub_tree in sub_trees]\n",
    "print(\"Total time is {:.1f}\".format(time.time()-start))"
   ]
  },
  {
   "cell_type": "markdown",
   "metadata": {},
   "source": [
    "## Calculate MDFs"
   ]
  },
  {
   "cell_type": "code",
   "execution_count": 9,
   "metadata": {},
   "outputs": [
    {
     "name": "stderr",
     "output_type": "stream",
     "text": [
      "/Users/alexji/Dropbox/caterpillar/NuPyCEE/caga/caga/calc.py:54: RuntimeWarning: divide by zero encountered in log10\n",
      "  Fe_H.append( np.log10(m_Fe_H_ratio) - np.log10((10**(7.50-12))*56.0) )\n"
     ]
    },
    {
     "name": "stdout",
     "output_type": "stream",
     "text": [
      "CPU times: user 464 ms, sys: 8.23 ms, total: 472 ms\n",
      "Wall time: 469 ms\n"
     ]
    }
   ],
   "source": [
    "%%time\n",
    "host_mdf = caga.calc.mdf(ghost)\n",
    "sub_mdfs = [caga.calc.mdf(g) for g in gsubs]"
   ]
  },
  {
   "cell_type": "markdown",
   "metadata": {},
   "source": [
    "### Use MDFs to find mean [Fe/H]"
   ]
  },
  {
   "cell_type": "code",
   "execution_count": 10,
   "metadata": {},
   "outputs": [],
   "source": [
    "host_Mstar = caga.calc.root_mstar(ghost)\n",
    "subs_Mstar = [caga.calc.root_mstar(gsub) for gsub in gsubs]\n",
    "host_FeH_mean = caga.find_distribution_mean(*host_mdf)\n",
    "subs_FeH_mean = [caga.find_distribution_mean(*sub_mdf) for sub_mdf in sub_mdfs]\n",
    "host_FeH_std = caga.find_distribution_std(*host_mdf)\n",
    "subs_FeH_std = [caga.find_distribution_std(*sub_mdf) for sub_mdf in sub_mdfs]"
   ]
  },
  {
   "cell_type": "code",
   "execution_count": 11,
   "metadata": {},
   "outputs": [
    {
     "data": {
      "text/plain": [
       "Text(0,0.5,'[Fe/H]')"
      ]
     },
     "execution_count": 11,
     "metadata": {},
     "output_type": "execute_result"
    },
    {
     "data": {
      "image/png": "[encoded data removed]",
      "text/plain": [
       "<matplotlib.figure.Figure at 0x181e859da0>"
      ]
     },
     "metadata": {},
     "output_type": "display_data"
    }
   ],
   "source": [
    "plt.errorbar(np.log10(subs_Mstar), subs_FeH_mean, yerr=subs_FeH_std, fmt='o')\n",
    "plt.xlabel(\"log Mstar\")\n",
    "plt.ylabel('[Fe/H]')"
   ]
  },
  {
   "cell_type": "markdown",
   "metadata": {},
   "source": [
    "Obviously this MZR is terrible!"
   ]
  },
  {
   "cell_type": "markdown",
   "metadata": {},
   "source": [
    "You can also use the convenience functions to do this (it will recalculate the MDF every time you call it)"
   ]
  },
  {
   "cell_type": "code",
   "execution_count": 12,
   "metadata": {},
   "outputs": [
    {
     "name": "stderr",
     "output_type": "stream",
     "text": [
      "/Users/alexji/Dropbox/caterpillar/NuPyCEE/caga/caga/calc.py:54: RuntimeWarning: divide by zero encountered in log10\n",
      "  Fe_H.append( np.log10(m_Fe_H_ratio) - np.log10((10**(7.50-12))*56.0) )\n"
     ]
    }
   ],
   "source": [
    "host_FeH_mean2 = caga.calc.root_FeH_mean(ghost)\n",
    "subs_FeH_mean2 = [caga.calc.root_FeH_mean(gsub) for gsub in gsubs]\n",
    "host_FeH_std2 = caga.calc.root_FeH_std(ghost)\n",
    "subs_FeH_std2 = [caga.calc.root_FeH_std(gsub) for gsub in gsubs]"
   ]
  },
  {
   "cell_type": "code",
   "execution_count": 13,
   "metadata": {},
   "outputs": [
    {
     "data": {
      "text/plain": [
       "<Container object of 3 artists>"
      ]
     },
     "execution_count": 13,
     "metadata": {},
     "output_type": "execute_result"
    },
    {
     "data": {
      "image/png": "[encoded data removed]",
      "text/plain": [
       "<matplotlib.figure.Figure at 0x181f2d87f0>"
      ]
     },
     "metadata": {},
     "output_type": "display_data"
    }
   ],
   "source": [
    "plt.errorbar(np.log10(subs_Mstar), subs_FeH_mean2, yerr=subs_FeH_std2, fmt='o')"
   ]
  },
  {
   "cell_type": "code",
   "execution_count": null,
   "metadata": {},
   "outputs": [],
   "source": []
  }
 ],
 "metadata": {
  "kernelspec": {
   "display_name": "Python 3",
   "language": "python",
   "name": "python3"
  },
  "language_info": {
   "codemirror_mode": {
    "name": "ipython",
    "version": 3
   },
   "file_extension": ".py",
   "mimetype": "text/x-python",
   "name": "python",
   "nbconvert_exporter": "python",
   "pygments_lexer": "ipython3",
   "version": "3.6.4"
  }
 },
 "nbformat": 4,
 "nbformat_minor": 2
}
